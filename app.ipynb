{
 "cells": [
  {
   "cell_type": "code",
   "execution_count": 1,
   "id": "7d9cc581",
   "metadata": {},
   "outputs": [],
   "source": [
    "from flask import Flask,render_template,request\n",
    "import pickle\n",
    "import numpy as np\n",
    "\n",
    "popular_df = pickle.load(open('popular.pkl','rb'))\n",
    "pt = pickle.load(open('pt.pkl','rb'))\n",
    "books = pickle.load(open('books.pkl','rb'))\n",
    "similarity_scores = pickle.load(open('similarity_scores.pkl','rb'))\n",
    "\n",
    "app = Flask(__name__)\n",
    "\n",
    "@app.route('/')\n",
    "def index():\n",
    "    return render_template('index.html',\n",
    "                           book_name = list(popular_df['Book-Title'].values),\n",
    "                           author=list(popular_df['Book-Author'].values),\n",
    "                           image=list(popular_df['Image-URL-M'].values),\n",
    "                           votes=list(popular_df['num_ratings'].values),\n",
    "                           rating=list(popular_df['avg_rating'].values)\n",
    "                           )\n",
    "\n",
    "@app.route('/recommend')\n",
    "def recommend_ui():\n",
    "    return render_template('recommend.html')\n",
    "\n",
    "@app.route('/recommend_books',methods=['post'])\n",
    "def recommend():\n",
    "    user_input = request.form.get('user_input')\n",
    "    index = np.where(pt.index == user_input)[0][0]\n",
    "    similar_items = sorted(list(enumerate(similarity_scores[index])), key=lambda x: x[1], reverse=True)[1:5]\n",
    "\n",
    "    data = []\n",
    "    for i in similar_items:\n",
    "        item = []\n",
    "        temp_df = books[books['Book-Title'] == pt.index[i[0]]]\n",
    "        item.extend(list(temp_df.drop_duplicates('Book-Title')['Book-Title'].values))\n",
    "        item.extend(list(temp_df.drop_duplicates('Book-Title')['Book-Author'].values))\n",
    "        item.extend(list(temp_df.drop_duplicates('Book-Title')['Image-URL-M'].values))\n",
    "        data.append(item)\n",
    "\n",
    "    print(data)\n",
    "\n",
    "    return render_template('recommend.html',data=data)\n",
    "\n",
    "\n",
    "if __name__ == '__main__':\n",
    "\n",
    "    app.run()"
   ]
  },
  {
   "cell_type": "code",
   "execution_count": null,
   "id": "ec2a8e57",
   "metadata": {},
   "outputs": [],
   "source": []
  },
  {
   "cell_type": "code",
   "execution_count": null,
   "id": "87e735f7",
   "metadata": {},
   "outputs": [],
   "source": []
  },
  {
   "cell_type": "code",
   "execution_count": null,
   "id": "1b304cdc",
   "metadata": {},
   "outputs": [],
   "source": []
  }
 ],
 "metadata": {
  "kernelspec": {
   "display_name": "Python 3 (ipykernel)",
   "language": "python",
   "name": "python3"
  },
  "language_info": {
   "codemirror_mode": {
    "name": "ipython",
    "version": 3
   },
   "file_extension": ".py",
   "mimetype": "text/x-python",
   "name": "python",
   "nbconvert_exporter": "python",
   "pygments_lexer": "ipython3",
   "version": "3.11.5"
  }
 },
 "nbformat": 4,
 "nbformat_minor": 5
}
